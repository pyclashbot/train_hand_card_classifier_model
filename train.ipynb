{
 "cells": [
  {
   "cell_type": "code",
   "execution_count": null,
   "metadata": {},
   "outputs": [],
   "source": [
    "%pip install ultralytics\n",
    "import os\n",
    "from ultralytics import YOLO\n"
   ]
  },
  {
   "cell_type": "code",
   "execution_count": null,
   "metadata": {},
   "outputs": [],
   "source": [
    "# DATA_DIR = r'dataset'\n",
    "DATA_DIR = r'dataset'"
   ]
  },
  {
   "cell_type": "code",
   "execution_count": null,
   "metadata": {},
   "outputs": [],
   "source": [
    "model = YOLO('yolov8n-cls.pt')\n",
    "\n",
    "results = model.train(data=DATA_DIR,epochs = 50, imgsz = 64)"
   ]
  },
  {
   "cell_type": "code",
   "execution_count": null,
   "metadata": {},
   "outputs": [],
   "source": [
    "train_output_folder = r'runs\\classify'\n",
    "\n",
    "def get_most_recent_best_model():\n",
    "    #get all the folder names in the train_output_folder\n",
    "\n",
    "    folders = [f for f in os.listdir(train_output_folder) if os.path.isdir(os.path.join(train_output_folder, f))]\n",
    "    highest_index = None\n",
    "    most_recent_folder = folders[0]\n",
    "    if len(folders)>1:\n",
    "        for folder in folders[1:]:\n",
    "            index = int(folder.replace('train',''))\n",
    "            if highest_index is None or index > highest_index:\n",
    "                highest_index = index\n",
    "                most_recent_folder = folder\n",
    "\n",
    "    print(highest_index)\n",
    "    print(most_recent_folder)\n",
    "\n",
    "    files = os.listdir(os.path.join(train_output_folder,most_recent_folder,'weights'))\n",
    "    for file in files:\n",
    "        if 'best' in file:\n",
    "            return os.path.join(train_output_folder,most_recent_folder,'weights',file)\n",
    "\n",
    "print(get_most_recent_best_model())"
   ]
  },
  {
   "cell_type": "code",
   "execution_count": null,
   "metadata": {},
   "outputs": [],
   "source": [
    "from ultralytics import YOLO\n",
    "\n",
    "# Load a model\n",
    "model = YOLO(get_most_recent_best_model())  # load a custom trained model\n",
    "\n",
    "# Export the model\n",
    "model.export(format=\"onnx\",data = '')"
   ]
  }
 ],
 "metadata": {
  "kernelspec": {
   "display_name": "Python 3",
   "language": "python",
   "name": "python3"
  },
  "language_info": {
   "codemirror_mode": {
    "name": "ipython",
    "version": 3
   },
   "file_extension": ".py",
   "mimetype": "text/x-python",
   "name": "python",
   "nbconvert_exporter": "python",
   "pygments_lexer": "ipython3",
   "version": "3.11.1"
  }
 },
 "nbformat": 4,
 "nbformat_minor": 2
}
